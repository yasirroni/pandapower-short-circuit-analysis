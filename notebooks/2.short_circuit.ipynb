{
 "cells": [
  {
   "cell_type": "markdown",
   "id": "0e7787d3-b994-41bb-85ca-ecaee686cfc8",
   "metadata": {},
   "source": [
    "# Short circuit (NOT YET WORKING)"
   ]
  },
  {
   "cell_type": "code",
   "execution_count": 35,
   "id": "32853b5d-3e23-42d2-9269-bb0b93fddbfc",
   "metadata": {},
   "outputs": [],
   "source": [
    "import pandapower.shortcircuit as sc"
   ]
  },
  {
   "cell_type": "code",
   "execution_count": 60,
   "id": "02858868-4b3e-4eb8-83f9-d9d2cfa5aaba",
   "metadata": {},
   "outputs": [],
   "source": [
    "net.ext_grid['s_sc_max_mva'] = 250 # 250 MVA is the rated max MVA output\n",
    "net.ext_grid['rx_max'] = 0.1\n",
    "net.gen['vn_kv'] = [345, 345]\n",
    "net.gen['xdss_pu'] = [0.2, 0.2]\n",
    "net.gen['rdss_ohm'] = [0.005, 0.005]\n",
    "net.gen['cos_phi'] = [0.9, 0.9]\n",
    "\n",
    "# sc.calc_sc(net, case=\"max\", ip=True, ith=True, branch_results=True)"
   ]
  },
  {
   "cell_type": "code",
   "execution_count": null,
   "id": "63484444-49d6-447c-9b20-f75ba3eb7ad7",
   "metadata": {},
   "outputs": [],
   "source": []
  }
 ],
 "metadata": {
  "kernelspec": {
   "display_name": "Python 3.8.10 64-bit",
   "language": "python",
   "name": "python3"
  },
  "language_info": {
   "codemirror_mode": {
    "name": "ipython",
    "version": 3
   },
   "file_extension": ".py",
   "mimetype": "text/x-python",
   "name": "python",
   "nbconvert_exporter": "python",
   "pygments_lexer": "ipython3",
   "version": "3.8.10"
  },
  "vscode": {
   "interpreter": {
    "hash": "7d9fbcc9d36fec826ec7ea63260f41bcb424332a9e727079e8172fbdc4352c28"
   }
  }
 },
 "nbformat": 4,
 "nbformat_minor": 5
}
