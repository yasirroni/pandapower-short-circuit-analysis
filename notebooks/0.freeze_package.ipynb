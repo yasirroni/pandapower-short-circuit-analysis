{
 "cells": [
  {
   "cell_type": "code",
   "execution_count": 1,
   "id": "3851fbe2-41c4-458c-9ced-f2d943b070e1",
   "metadata": {},
   "outputs": [
    {
     "name": "stdout",
     "output_type": "stream",
     "text": [
      "asttokens==2.0.5\n",
      "backcall==0.2.0\n",
      "colorama==0.4.4\n",
      "cycler==0.11.0\n",
      "debugpy==1.6.0\n",
      "decorator==5.1.1\n",
      "entrypoints==0.4\n",
      "executing==0.8.3\n",
      "fonttools==4.31.2\n",
      "igraph==0.9.9\n",
      "ipykernel==6.10.0\n",
      "ipython==8.2.0\n",
      "jedi==0.18.1\n",
      "jupyter-client==7.2.0\n",
      "jupyter-core==4.9.2\n",
      "kiwisolver==1.4.2\n",
      "llvmlite==0.38.0\n",
      "matplotlib==3.5.1\n",
      "matplotlib-inline==0.1.3\n",
      "matpower==7.1.0.2.1.1\n",
      "metakernel==0.29.0\n",
      "nest-asyncio==1.5.4\n",
      "networkx==2.7.1\n",
      "numba==0.55.1\n",
      "numpy==1.21.5\n",
      "oct2py==5.5.1\n",
      "octave-kernel==0.34.2\n",
      "packaging==21.3\n",
      "pandapower==2.9.0\n",
      "pandas==1.4.1\n",
      "parso==0.8.3\n",
      "pexpect==4.8.0\n",
      "pickleshare==0.7.5\n",
      "Pillow==9.0.1\n",
      "prompt-toolkit==3.0.28\n",
      "psutil==5.9.0\n",
      "ptyprocess==0.7.0\n",
      "pure-eval==0.2.2\n",
      "Pygments==2.11.2\n",
      "pyparsing==3.0.7\n",
      "python-dateutil==2.8.2\n",
      "pytz==2022.1\n",
      "pywin32==303\n",
      "pyzmq==22.3.0\n",
      "scipy==1.8.0\n",
      "six==1.16.0\n",
      "stack-data==0.2.0\n",
      "texttable==1.6.4\n",
      "tornado==6.1\n",
      "tqdm==4.63.1\n",
      "traitlets==5.1.1\n",
      "wcwidth==0.2.5\n",
      "Note: you may need to restart the kernel to use updated packages.\n"
     ]
    }
   ],
   "source": [
    "%pip freeze"
   ]
  },
  {
   "cell_type": "code",
   "execution_count": 2,
   "id": "cbd68f99-4f70-4e38-851a-f15db52c882a",
   "metadata": {},
   "outputs": [],
   "source": [
    "import pandapower as pp"
   ]
  },
  {
   "cell_type": "code",
   "execution_count": 3,
   "id": "81019e3c-a4c8-49c3-864e-ef2dd2fca599",
   "metadata": {},
   "outputs": [
    {
     "data": {
      "text/plain": [
       "'2.9.0'"
      ]
     },
     "execution_count": 3,
     "metadata": {},
     "output_type": "execute_result"
    }
   ],
   "source": [
    "pp.__version__"
   ]
  },
  {
   "cell_type": "code",
   "execution_count": null,
   "id": "1c231e2f-a337-48bf-b850-ec8d89505914",
   "metadata": {},
   "outputs": [],
   "source": []
  }
 ],
 "metadata": {
  "kernelspec": {
   "display_name": "py3.8-pandapower",
   "language": "python",
   "name": "py3.8-pandapower"
  },
  "language_info": {
   "codemirror_mode": {
    "name": "ipython",
    "version": 3
   },
   "file_extension": ".py",
   "mimetype": "text/x-python",
   "name": "python",
   "nbconvert_exporter": "python",
   "pygments_lexer": "ipython3",
   "version": "3.8.10"
  }
 },
 "nbformat": 4,
 "nbformat_minor": 5
}
